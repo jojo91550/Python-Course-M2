{
 "cells": [
  {
   "cell_type": "markdown",
   "metadata": {},
   "source": []
  },
  {
   "cell_type": "markdown",
   "metadata": {},
   "source": []
  },
  {
   "cell_type": "markdown",
   "metadata": {},
   "source": [
    "## **📌 CLI Tool Development Exercises**  \n",
    "**Basic CLI Development** using `argparse`.  \n",
    "\n",
    "### **Building a Basic CLI Calculator**\n",
    "🎯 **Objective:**  \n",
    "Develop a **basic command-line calculator** that accepts two numbers and an operation (add, subtract, multiply, divide).  \n",
    "\n",
    "\n",
    "### **🔹 Requirements**\n",
    "✅ Use `argparse` to handle **three required arguments**:  \n",
    "  - `num1`: First number  \n",
    "  - `operation`: Operation (`add`, `sub`, `mul`, `div`)  \n",
    "  - `num2`: Second number  \n",
    "✅ Ensure the CLI provides **help instructions** (`--help`).  \n",
    "✅ Handle **division by zero gracefully** (display an error message instead of crashing).  \n",
    "\n",
    "---\n",
    "\n",
    "### **Expected Folder Structure**\n",
    "```plaintext\n",
    "basic_cli_calculator/\n",
    "│── calculator.py   # CLI script using argparse\n",
    "```\n",
    "\n",
    "---\n",
    "\n",
    "### **📌 Example Runs**\n",
    "#### ✅ Valid Input:\n",
    "```bash\n",
    "python calculator.py 10 add 5\n",
    "```\n",
    "🔹 **Output:**  \n",
    "```plaintext\n",
    "Result: 15.0\n",
    "```\n",
    "\n",
    "#### ✅ Handling Invalid Operations:\n",
    "```bash\n",
    "python calculator.py 10 power 5\n",
    "```\n",
    "🔹 **Output:**  \n",
    "```plaintext\n",
    "Error: Invalid operation.\n",
    "```\n",
    "\n",
    "#### ✅ Handling Division by Zero:\n",
    "```bash\n",
    "python calculator.py 10 div 0\n",
    "```\n",
    "🔹 **Output:**  \n",
    "```plaintext\n",
    "Error: Division by zero is not allowed.\n",
    "```"
   ]
  },
  {
   "cell_type": "markdown",
   "metadata": {},
   "source": [
    "✅ Valid Input:"
   ]
  },
  {
   "cell_type": "code",
   "execution_count": 3,
   "metadata": {},
   "outputs": [
    {
     "name": "stdout",
     "output_type": "stream",
     "text": [
      "Result: 15.0\n"
     ]
    }
   ],
   "source": [
    "!python basic_cli_calculator/calculator.py 10 add 5"
   ]
  },
  {
   "cell_type": "markdown",
   "metadata": {},
   "source": [
    "✅ Handling Invalid Operations:"
   ]
  },
  {
   "cell_type": "code",
   "execution_count": 7,
   "metadata": {},
   "outputs": [
    {
     "name": "stdout",
     "output_type": "stream",
     "text": [
      "Error: Invalid operation.\n"
     ]
    }
   ],
   "source": [
    "!python basic_cli_calculator/calculator.py 10 power 5"
   ]
  },
  {
   "cell_type": "markdown",
   "metadata": {},
   "source": [
    "✅ Handling Division by Zero:"
   ]
  },
  {
   "cell_type": "code",
   "execution_count": 8,
   "metadata": {},
   "outputs": [
    {
     "name": "stdout",
     "output_type": "stream",
     "text": [
      "Error: Division by zero is not allowed.\n"
     ]
    }
   ],
   "source": [
    "!python basic_cli_calculator/calculator.py 10 div 0"
   ]
  }
 ],
 "metadata": {
  "kernelspec": {
   "display_name": ".venv",
   "language": "python",
   "name": "python3"
  },
  "language_info": {
   "codemirror_mode": {
    "name": "ipython",
    "version": 3
   },
   "file_extension": ".py",
   "mimetype": "text/x-python",
   "name": "python",
   "nbconvert_exporter": "python",
   "pygments_lexer": "ipython3",
   "version": "3.10.12"
  }
 },
 "nbformat": 4,
 "nbformat_minor": 2
}
